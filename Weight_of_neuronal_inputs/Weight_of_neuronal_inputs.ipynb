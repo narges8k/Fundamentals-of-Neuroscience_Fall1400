{
 "cells": [
  {
   "cell_type": "markdown",
   "metadata": {},
   "source": [
    "## Weight of Neuronal Inputs"
   ]
  },
  {
   "cell_type": "markdown",
   "metadata": {},
   "source": [
    "#### Packages and Configurations\n"
   ]
  },
  {
   "cell_type": "code",
   "execution_count": 32,
   "metadata": {},
   "outputs": [
    {
     "data": {
      "text/plain": [
       "Dict{String, Any} with 1 entry:\n",
       "  \"inputs\" => [1.93389 -2.15885 … -1.04651 0.773699; 0.120302 -1.27044 … -0.184…"
      ]
     },
     "metadata": {},
     "output_type": "display_data"
    }
   ],
   "source": [
    "using Plots, LaTeXStrings, MAT, Statistics, LinearAlgebra\n",
    "cd(dirname(@__FILE__))\n",
    "file = matopen(\"Neural_Inputs.mat\")\n",
    "vars = matread(\"Neural_Inputs.mat\")\n",
    "#Neuronal Inputs -> Matrix[2 , 1000]"
   ]
  },
  {
   "cell_type": "code",
   "execution_count": 122,
   "metadata": {},
   "outputs": [],
   "source": [
    "w₀ =[0.01 , 0.01]\n",
    "τ = 10\n",
    "wList = []\n",
    "for i in 1:10:991\n",
    "    u = vars[\"inputs\"][:, i:i+9]\n",
    "    dw = dot(w₀ , var(u, dims=2))/10\n",
    "    w₀ .+= dw\n",
    "    push!(wList,copy(w₀))\n",
    "end"
   ]
  },
  {
   "cell_type": "code",
   "execution_count": 128,
   "metadata": {},
   "outputs": [],
   "source": [
    "plot(getindex.(wList,1), dpi=400, xlabel=L\"Input\\ Number\", ylabel=L\"Weight\", label=\"First Input Series\")\n",
    "plot!(getindex.(wList,2), label=\"Second Input Series\")\n",
    "savefig(\"../../Fundamentals-of-Neuroscience_Fall1400/Weight_of_neuronal_inputs/Figs/Weight_input.pdf\")"
   ]
  }
 ],
 "metadata": {
  "kernelspec": {
   "display_name": "Julia 1.6.2",
   "language": "julia",
   "name": "julia-1.6"
  },
  "language_info": {
   "file_extension": ".jl",
   "mimetype": "application/julia",
   "name": "julia",
   "version": "1.6.2"
  },
  "orig_nbformat": 4
 },
 "nbformat": 4,
 "nbformat_minor": 2
}
